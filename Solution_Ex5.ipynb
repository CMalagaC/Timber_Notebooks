{
 "cells": [
  {
   "cell_type": "markdown",
   "id": "australian-bottle",
   "metadata": {},
   "source": [
    "# Exercise 5"
   ]
  },
  {
   "cell_type": "markdown",
   "id": "steady-iraqi",
   "metadata": {},
   "source": [
    "Design of a pitched cambered Glulam beam."
   ]
  },
  {
   "cell_type": "code",
   "execution_count": 31,
   "id": "fantastic-capacity",
   "metadata": {},
   "outputs": [],
   "source": [
    "import numpy as np\n",
    "import handcalcs.render\n",
    "from math import sqrt, pi, tan, log, atan, cos, sin"
   ]
  },
  {
   "cell_type": "markdown",
   "id": "sealed-europe",
   "metadata": {},
   "source": [
    "## Data"
   ]
  },
  {
   "cell_type": "code",
   "execution_count": 63,
   "id": "interested-spanish",
   "metadata": {},
   "outputs": [
    {
     "data": {
      "text/latex": [
       "\\[\n",
       "\\begin{aligned}\n",
       "l &= 10 \\; \\;\\textrm{(m)}\n",
       "\\\\[10pt]\n",
       "h_{l} &= 667 \\; \\;\\textrm{(mm)}\n",
       "\\\\[10pt]\n",
       "h_{s} &= 400 \\; \\;\\textrm{(mm)}\n",
       "\\\\[10pt]\n",
       "b &= 115 \\; \\;\\textrm{(mm)}\n",
       "\\\\[10pt]\n",
       "\\alpha &= 10 \\; \n",
       "\\\\[10pt]\n",
       "r_{int} &= 11000 \\; \\;\\textrm{(mm)}\n",
       "\\\\[10pt]\n",
       "w_{d} &= 10 \\; \\;\\textrm{(kN/m)}\n",
       "\\\\[10pt]\n",
       "f_{mk} &= 28.310 \\; \\;\\textrm{(MPa)}\n",
       "\\\\[10pt]\n",
       "f_{vk} &= 3.200 \\; \\;\\textrm{(MPa)}\n",
       "\\\\[10pt]\n",
       "f_{t90k} &= 0.450 \\; \\;\\textrm{(MPa)}\n",
       "\\\\[10pt]\n",
       "f_{c90k} &= 2.700 \\; \\;\\textrm{(MPa)}\n",
       "\\\\[10pt]\n",
       "\\rho &= 380 \\; \\;\\textrm{(kg/m3)}\n",
       "\\\\[10pt]\n",
       "k_{mod} &= 0.900 \\; \\;\\textrm{(Short term load)}\n",
       "\\\\[10pt]\n",
       "\\gamma &= 1.250 \\; \n",
       "\\\\[10pt]\n",
       "f_{md} &= f_{mk} \\cdot \\frac{ k_{mod} }{ \\gamma }  = 28.310 \\cdot \\frac{ 0.900 }{ 1.250 } &= 20.383 \\; \\;\\textrm{(MPa)}\n",
       "\\\\[10pt]\n",
       "f_{vd} &= f_{vk} \\cdot \\frac{ k_{mod} }{ \\gamma }  = 3.200 \\cdot \\frac{ 0.900 }{ 1.250 } &= 2.304 \\; \\;\\textrm{(MPa)}\n",
       "\\\\[10pt]\n",
       "f_{c90d} &= f_{c90k} \\cdot \\frac{ k_{mod} }{ \\gamma }  = 2.700 \\cdot \\frac{ 0.900 }{ 1.250 } &= 1.944 \\; \\;\\textrm{(MPa)}\n",
       "\\\\[10pt]\n",
       "f_{t90d} &= f_{t90k} \\cdot \\frac{ k_{mod} }{ \\gamma }  = 0.450 \\cdot \\frac{ 0.900 }{ 1.250 } &= 0.324 \\; \\;\\textrm{(MPa)}\n",
       "\\\\[10pt]\n",
       "E_{mean} &= 12600 \\; \\;\\textrm{(MPa)}\n",
       "\\\\[10pt]\n",
       "G_{mean} &= 720 \\; \\;\\textrm{(MPa)}\n",
       "\\\\[10pt]\n",
       "k_{def} &= 0.600 \\; \n",
       "\\end{aligned}\n",
       "\\]"
      ],
      "text/plain": [
       "<IPython.core.display.Latex object>"
      ]
     },
     "metadata": {},
     "output_type": "display_data"
    }
   ],
   "source": [
    "%%render\n",
    "l = 10 #m\n",
    "h_l = 667 #mm\n",
    "h_s = 400 #mm\n",
    "b = 115 #mm\n",
    "alpha = 10\n",
    "r_int = 11000 #mm\n",
    "w_d = 10 #kN/m\n",
    "\n",
    "f_mk = 28.31 #MPa\n",
    "f_vk = 3.2 # MPa\n",
    "f_t90k = 0.45 # MPa\n",
    "f_c90k = 2.7 # MPa\n",
    "rho = 380 #kg/m3\n",
    "k_mod = 0.9 #Short term load\n",
    "gamma = 1.25\n",
    "f_md = f_mk*k_mod/gamma #MPa\n",
    "f_vd = f_vk*k_mod/gamma #MPa\n",
    "f_c90d = f_c90k*k_mod/gamma #MPa\n",
    "f_t90d = f_t90k*k_mod/gamma #MPa\n",
    "E_mean = 12600 #MPa\n",
    "G_mean = 720 #MPa\n",
    "k_def = 0.6"
   ]
  },
  {
   "cell_type": "code",
   "execution_count": 19,
   "id": "dcbe7572",
   "metadata": {},
   "outputs": [
    {
     "data": {
      "text/latex": [
       "\\[\n",
       "\\begin{aligned}\n",
       "\\alpha_{1} &= \\arctan \\left( \\frac{ h_{l} - h_{s} }{ 4000 } \\right) \\cdot \\frac{ 180 }{ \\pi }  = \\arctan \\left( \\frac{ 667 - 400 }{ 4000 } \\right) \\cdot \\frac{ 180 }{ 3.142 } &= 3.819  \n",
       "\\\\[10pt]\n",
       "\\alpha_{u} &= \\alpha - \\alpha_{1}  = 10 - 3.819 &= 6.181  \n",
       "\\end{aligned}\n",
       "\\]"
      ],
      "text/plain": [
       "<IPython.core.display.Latex object>"
      ]
     },
     "metadata": {},
     "output_type": "display_data"
    }
   ],
   "source": [
    "%%render\n",
    "alpha_1 = atan((h_l-h_s)/4000)*180/pi\n",
    "alpha_u = alpha - alpha_1"
   ]
  },
  {
   "cell_type": "markdown",
   "id": "7d0be20f",
   "metadata": {},
   "source": [
    "## Shear strength chekcs (ULS)"
   ]
  },
  {
   "cell_type": "code",
   "execution_count": 20,
   "id": "c1ee0659",
   "metadata": {},
   "outputs": [
    {
     "data": {
      "text/latex": [
       "\\[\n",
       "\\begin{aligned}\n",
       "V_{d} &= w_{d} \\cdot l \\cdot \\frac{ \\cos \\left( \\alpha_{u} \\right) }{ 2 }  = 10 \\cdot 10 \\cdot \\frac{ \\cos \\left( 6.181 \\right) }{ 2 } &= 49.740 \\; \\;\\textrm{(kN)}\n",
       "\\\\[10pt]\n",
       "\\tau_{d} &= 1.5 \\cdot V_{d} \\cdot \\frac{ 1000 }{ b \\cdot h_{s} }  = 1.5 \\cdot 49.740 \\cdot \\frac{ 1000 }{ 115 \\cdot 400 } &= 1.622 \\; \\;\\textrm{(MPa)}\n",
       "\\end{aligned}\n",
       "\\]"
      ],
      "text/plain": [
       "<IPython.core.display.Latex object>"
      ]
     },
     "metadata": {},
     "output_type": "display_data"
    }
   ],
   "source": [
    "%%render\n",
    "V_d = w_d*l*cos(alpha_u)/2 #kN\n",
    "tau_d = 1.5*V_d*1000/(b*h_s) #MPa"
   ]
  },
  {
   "cell_type": "code",
   "execution_count": 21,
   "id": "d9b92038",
   "metadata": {},
   "outputs": [
    {
     "data": {
      "text/latex": [
       "\\[\n",
       "\\begin{aligned}\n",
       "\\mathrm{Ratio} &= \\frac{ \\tau_{d} }{ f_{vd} }  = \\frac{ 1.622 }{ 2.304 } &= 0.704  \n",
       "\\end{aligned}\n",
       "\\]"
      ],
      "text/plain": [
       "<IPython.core.display.Latex object>"
      ]
     },
     "metadata": {},
     "output_type": "display_data"
    }
   ],
   "source": [
    "%%render\n",
    "Ratio = tau_d/f_vd"
   ]
  },
  {
   "cell_type": "markdown",
   "id": "d27f6bfb",
   "metadata": {},
   "source": [
    "which is lower than 1 --> satisfactory"
   ]
  },
  {
   "cell_type": "markdown",
   "id": "d4fe84bc",
   "metadata": {},
   "source": [
    "## Bending strength checks (ULS)"
   ]
  },
  {
   "cell_type": "markdown",
   "id": "156fec25",
   "metadata": {},
   "source": [
    "We will need to check the full beam (at different x distances) since the location of the critical section is not immediately obvious"
   ]
  },
  {
   "cell_type": "code",
   "execution_count": 24,
   "id": "75526275",
   "metadata": {},
   "outputs": [
    {
     "data": {
      "text/latex": [
       "\\[\n",
       "\\begin{aligned}\n",
       "k_{ma} &= \\frac{ 1 }{ \\sqrt { 1 + \\left( \\frac{ f_{md} }{ 1.5 \\cdot f_{vd} } \\cdot \\tan \\left( \\alpha_{1} \\cdot \\frac{ \\pi }{ 180 } \\right) \\right) ^{ 2 } + \\left( \\frac{ f_{md} }{ f_{c90d} } \\cdot \\left( \\tan \\left( \\alpha_{1} \\cdot \\frac{ \\pi }{ 180 } \\right) \\right) ^{ 2 } \\right) ^{ 2 } } } \\\\&= \\frac{ 1 }{ \\sqrt { 1 + \\left( \\frac{ 20.383 }{ 1.5 \\cdot 2.304 } \\cdot \\tan \\left( 3.819 \\cdot \\frac{ 3.142 }{ 180 } \\right) \\right) ^{ 2 } + \\left( \\frac{ 20.383 }{ 1.944 } \\cdot \\left( \\tan \\left( 3.819 \\cdot \\frac{ 3.142 }{ 180 } \\right) \\right) ^{ 2 } \\right) ^{ 2 } } } \\\\&= 0.930  \\\\[10pt]\n",
       "\\end{aligned}\n",
       "\\]"
      ],
      "text/plain": [
       "<IPython.core.display.Latex object>"
      ]
     },
     "metadata": {},
     "output_type": "display_data"
    }
   ],
   "source": [
    "%%render\n",
    "k_ma = 1/(sqrt(1 + ((f_md)/(1.5*f_vd)*tan(alpha_1*pi/180))**2+(f_md/f_c90d*tan(alpha_1*pi/180)**2)**2))"
   ]
  },
  {
   "cell_type": "code",
   "execution_count": 59,
   "id": "c1415d18",
   "metadata": {},
   "outputs": [
    {
     "name": "stdout",
     "output_type": "stream",
     "text": [
      "[0.         0.34830867 0.56911437 0.70240742 0.77478947 0.80434881\n",
      " 0.80361574 0.7814083  0.74401514]\n"
     ]
    }
   ],
   "source": [
    "x = np.arange(0, 4500, 500)  #distance mm\n",
    "h = 400+x*sin(alpha_1*pi/180) #height mm\n",
    "W = b*h**2/6 # Section modulus mm3\n",
    "M = w_d*x/1000*(l-x/1000)/2 #Moment kNm\n",
    "sigma = M*10**6/W #MPa\n",
    "ratio = sigma/(k_ma*f_md)\n",
    "# print(x) #mm\n",
    "# print(h) #mm\n",
    "# print(W) #mm3\n",
    "# print(M) #kNm\n",
    "# print(sigma) #MPa\n",
    "print(ratio)"
   ]
  },
  {
   "cell_type": "markdown",
   "id": "46a56726",
   "metadata": {},
   "source": [
    "all the ratios are lower than 1 --> satisfactory"
   ]
  },
  {
   "cell_type": "markdown",
   "id": "171d2dd6",
   "metadata": {},
   "source": [
    "## Bending strenght in the apex (ULS)"
   ]
  },
  {
   "cell_type": "markdown",
   "id": "1b6361d8",
   "metadata": {},
   "source": [
    "Considering 50 mm of camber"
   ]
  },
  {
   "cell_type": "code",
   "execution_count": 64,
   "id": "b9f7df91",
   "metadata": {},
   "outputs": [
    {
     "data": {
      "text/latex": [
       "\\[\n",
       "\\begin{aligned}\n",
       "h_{ap} &= h_{s} + l \\cdot \\frac{ 1000 }{ 2 } \\cdot \\tan \\left( \\alpha \\cdot \\frac{ \\pi }{ 180 } \\right) - 4000 \\cdot \\tan \\left( \\alpha_{u} \\cdot \\frac{ \\pi }{ 180 } \\right) - 50 \\\\&= 400 + 10 \\cdot \\frac{ 1000 }{ 2 } \\cdot \\tan \\left( 10 \\cdot \\frac{ 3.142 }{ 180 } \\right) - 4000 \\cdot \\tan \\left( 6.181 \\cdot \\frac{ 3.142 }{ 180 } \\right) - 50 \\\\&= 798.426 \\; \\;\\textrm{(mm)}\\\\[10pt]\n",
       "\\\\[10pt]\n",
       "r &= r_{int} + 0.5 \\cdot h_{ap}  = 11000 + 0.5 \\cdot 798.426 &= 11399.213 \\; \\;\\textrm{(mm)}\n",
       "\\end{aligned}\n",
       "\\]"
      ],
      "text/plain": [
       "<IPython.core.display.Latex object>"
      ]
     },
     "metadata": {},
     "output_type": "display_data"
    }
   ],
   "source": [
    "%%render\n",
    "h_ap = h_s+l*1000/2*tan(alpha*pi/180) - 4000*tan(alpha_u*pi/180)-50 #mm\n",
    "r = r_int + 0.5*h_ap #mm"
   ]
  },
  {
   "cell_type": "code",
   "execution_count": 70,
   "id": "47e8fa7d",
   "metadata": {},
   "outputs": [
    {
     "data": {
      "text/latex": [
       "\\[\n",
       "\\begin{aligned}\n",
       "k_{1} &= 1 + 1.14 \\cdot \\tan \\left( \\alpha \\cdot \\frac{ \\pi }{ 180 } \\right) + 5.4 \\cdot \\left( \\tan \\left( \\alpha \\cdot \\frac{ \\pi }{ 180 } \\right) \\right) ^{ 2 } \\\\&= 1 + 1.14 \\cdot \\tan \\left( 10 \\cdot \\frac{ 3.142 }{ 180 } \\right) + 5.4 \\cdot \\left( \\tan \\left( 10 \\cdot \\frac{ 3.142 }{ 180 } \\right) \\right) ^{ 2 } \\\\&= 1.369  \\\\[10pt]\n",
       "\\\\[10pt]\n",
       "k_{2} &= 0.35 - 8 \\cdot \\tan \\left( \\alpha \\cdot \\frac{ \\pi }{ 180 } \\right)  = 0.35 - 8 \\cdot \\tan \\left( 10 \\cdot \\frac{ 3.142 }{ 180 } \\right) &= -1.061  \n",
       "\\\\[10pt]\n",
       "k_{3} &= 0.6 + 8.3 \\cdot \\tan \\left( \\alpha \\cdot \\frac{ \\pi }{ 180 } \\right) - 7.8 \\cdot \\left( \\tan \\left( \\alpha \\cdot \\frac{ \\pi }{ 180 } \\right) \\right) ^{ 2 } \\\\&= 0.6 + 8.3 \\cdot \\tan \\left( 10 \\cdot \\frac{ 3.142 }{ 180 } \\right) - 7.8 \\cdot \\left( \\tan \\left( 10 \\cdot \\frac{ 3.142 }{ 180 } \\right) \\right) ^{ 2 } \\\\&= 1.821  \\\\[10pt]\n",
       "\\\\[10pt]\n",
       "k_{4} &= 6 \\cdot \\left( \\tan \\left( \\alpha \\cdot \\frac{ \\pi }{ 180 } \\right) \\right) ^{ 2 }  = 6 \\cdot \\left( \\tan \\left( 10 \\cdot \\frac{ 3.142 }{ 180 } \\right) \\right) ^{ 2 } &= 0.187  \n",
       "\\end{aligned}\n",
       "\\]"
      ],
      "text/plain": [
       "<IPython.core.display.Latex object>"
      ]
     },
     "metadata": {},
     "output_type": "display_data"
    }
   ],
   "source": [
    "%%render\n",
    "k_1 = 1+1.14*tan(alpha*pi/180)+5.4*tan(alpha*pi/180)**2\n",
    "k_2 = 0.35-8*tan(alpha*pi/180)\n",
    "k_3 = 0.6+8.3*tan(alpha*pi/180)-7.8*tan(alpha*pi/180)**2\n",
    "k_4 = 6*tan(alpha*pi/180)**2"
   ]
  },
  {
   "cell_type": "code",
   "execution_count": 72,
   "id": "13e46cdd",
   "metadata": {},
   "outputs": [
    {
     "data": {
      "text/latex": [
       "\\[\n",
       "\\begin{aligned}\n",
       "k_{l} &= k_{1} + k_{2} \\cdot \\left( \\frac{ h_{ap} }{ r } \\right) + k_{3} \\cdot \\left( \\frac{ h_{ap} }{ r } \\right) ^{ 2 } + k_{4} \\cdot \\left( \\frac{ h_{ap} }{ r } \\right) ^{ 3 } \\\\&= 1.369 + -1.061 \\cdot \\left( \\frac{ 798.426 }{ 11399.213 } \\right) + 1.821 \\cdot \\left( \\frac{ 798.426 }{ 11399.213 } \\right) ^{ 2 } + 0.187 \\cdot \\left( \\frac{ 798.426 }{ 11399.213 } \\right) ^{ 3 } \\\\&= 1.304  \\\\[10pt]\n",
       "\\end{aligned}\n",
       "\\]"
      ],
      "text/plain": [
       "<IPython.core.display.Latex object>"
      ]
     },
     "metadata": {},
     "output_type": "display_data"
    }
   ],
   "source": [
    "%%render\n",
    "k_l = k_1 + k_2*(h_ap/r)+k_3*(h_ap/r)**2+k_4*(h_ap/r)**3"
   ]
  },
  {
   "cell_type": "code",
   "execution_count": 77,
   "id": "7845ad75",
   "metadata": {},
   "outputs": [
    {
     "data": {
      "text/latex": [
       "\\[\n",
       "\\begin{aligned}\n",
       "M_{ap} &= w_{d} \\cdot \\frac{ \\left( l \\right) ^{ 2 } }{ 8 }  = 10 \\cdot \\frac{ \\left( 10 \\right) ^{ 2 } }{ 8 } &= 125.000 \\; \\;\\textrm{(kNm)}\n",
       "\\\\[10pt]\n",
       "\\sigma_{md} &= k_{l} \\cdot M_{ap} \\cdot \\left( 10 \\right) ^{ 6 } \\cdot \\frac{ 6 }{ b \\cdot \\left( h_{ap} \\right) ^{ 2 } }  = 1.304 \\cdot 125.000 \\cdot \\left( 10 \\right) ^{ 6 } \\cdot \\frac{ 6 }{ 115 \\cdot \\left( 798.426 \\right) ^{ 2 } } &= 13.337 \\; \\;\\textrm{(MPa)}\n",
       "\\end{aligned}\n",
       "\\]"
      ],
      "text/plain": [
       "<IPython.core.display.Latex object>"
      ]
     },
     "metadata": {},
     "output_type": "display_data"
    }
   ],
   "source": [
    "%%render\n",
    "M_ap = w_d*l**2/8 #kNm\n",
    "sigma_md = k_l*M_ap*10**6*6/(b*h_ap**2) #MPa"
   ]
  },
  {
   "cell_type": "markdown",
   "id": "8a1a6ae4",
   "metadata": {},
   "source": [
    "Considering $k_r = 1$ assuming $r_{int}/t \\geq 240$ mm"
   ]
  },
  {
   "cell_type": "code",
   "execution_count": 79,
   "id": "c09982b4",
   "metadata": {
    "scrolled": true
   },
   "outputs": [
    {
     "data": {
      "text/latex": [
       "\\[\n",
       "\\begin{aligned}\n",
       "\\mathrm{Ratio} &= \\frac{ \\sigma_{md} }{ 1 \\cdot f_{md} }  = \\frac{ 13.337 }{ 1 \\cdot 20.383 } &= 0.654  \n",
       "\\end{aligned}\n",
       "\\]"
      ],
      "text/plain": [
       "<IPython.core.display.Latex object>"
      ]
     },
     "metadata": {},
     "output_type": "display_data"
    }
   ],
   "source": [
    "%%render\n",
    "Ratio = sigma_md/(1*f_md)"
   ]
  },
  {
   "cell_type": "markdown",
   "id": "40726d4b",
   "metadata": {},
   "source": [
    "which is lower than 1 --> satisfactory"
   ]
  },
  {
   "cell_type": "markdown",
   "id": "465c397f",
   "metadata": {},
   "source": [
    "## Radial strenght in the apex (ULS)"
   ]
  },
  {
   "cell_type": "code",
   "execution_count": 82,
   "id": "07b8d4a6",
   "metadata": {},
   "outputs": [
    {
     "data": {
      "text/latex": [
       "\\[\n",
       "\\begin{aligned}\n",
       "k_{5} &= 0.2 \\cdot \\tan \\left( \\alpha \\cdot \\frac{ \\pi }{ 180 } \\right)  = 0.2 \\cdot \\tan \\left( 10 \\cdot \\frac{ 3.142 }{ 180 } \\right) &= 0.035  \n",
       "\\\\[10pt]\n",
       "k_{6} &= 0.25 - 1.5 \\cdot \\tan \\left( \\alpha \\cdot \\frac{ \\pi }{ 180 } \\right) + 2.6 \\cdot \\left( \\tan \\left( \\alpha \\cdot \\frac{ \\pi }{ 180 } \\right) \\right) ^{ 2 } \\\\&= 0.25 - 1.5 \\cdot \\tan \\left( 10 \\cdot \\frac{ 3.142 }{ 180 } \\right) + 2.6 \\cdot \\left( \\tan \\left( 10 \\cdot \\frac{ 3.142 }{ 180 } \\right) \\right) ^{ 2 } \\\\&= 0.066  \\\\[10pt]\n",
       "\\\\[10pt]\n",
       "k_{7} &= 2.1 \\cdot \\tan \\left( \\alpha \\cdot \\frac{ \\pi }{ 180 } \\right) - 4 \\cdot \\left( \\tan \\left( \\alpha \\cdot \\frac{ \\pi }{ 180 } \\right) \\right) ^{ 2 } \\\\&= 2.1 \\cdot \\tan \\left( 10 \\cdot \\frac{ 3.142 }{ 180 } \\right) - 4 \\cdot \\left( \\tan \\left( 10 \\cdot \\frac{ 3.142 }{ 180 } \\right) \\right) ^{ 2 } \\\\&= 0.246  \\\\[10pt]\n",
       "\\end{aligned}\n",
       "\\]"
      ],
      "text/plain": [
       "<IPython.core.display.Latex object>"
      ]
     },
     "metadata": {},
     "output_type": "display_data"
    }
   ],
   "source": [
    "%%render\n",
    "k_5 = 0.2*tan(alpha*pi/180)\n",
    "k_6 = 0.25 - 1.5*tan(alpha*pi/180)+2.6*tan(alpha*pi/180)**2\n",
    "k_7 = 2.1*tan(alpha*pi/180) - 4*tan(alpha*pi/180)**2"
   ]
  },
  {
   "cell_type": "code",
   "execution_count": 83,
   "id": "e22870f3",
   "metadata": {},
   "outputs": [
    {
     "data": {
      "text/latex": [
       "\\[\n",
       "\\begin{aligned}\n",
       "k_{p} &= k_{5} + k_{6} \\cdot \\left( \\frac{ h_{ap} }{ r } \\right) + k_{7} \\cdot \\left( \\frac{ h_{ap} }{ r } \\right) ^{ 2 } \\\\&= 0.035 + 0.066 \\cdot \\left( \\frac{ 798.426 }{ 11399.213 } \\right) + 0.246 \\cdot \\left( \\frac{ 798.426 }{ 11399.213 } \\right) ^{ 2 } \\\\&= 0.041  \\\\[10pt]\n",
       "\\end{aligned}\n",
       "\\]"
      ],
      "text/plain": [
       "<IPython.core.display.Latex object>"
      ]
     },
     "metadata": {},
     "output_type": "display_data"
    }
   ],
   "source": [
    "%%render\n",
    "k_p = k_5 + k_6*(h_ap/r)+k_7*(h_ap/r)**2"
   ]
  },
  {
   "cell_type": "code",
   "execution_count": 84,
   "id": "f0aba2b3",
   "metadata": {},
   "outputs": [
    {
     "data": {
      "text/latex": [
       "\\[\n",
       "\\begin{aligned}\n",
       "M_{ap} &= w_{d} \\cdot \\frac{ \\left( l \\right) ^{ 2 } }{ 8 }  = 10 \\cdot \\frac{ \\left( 10 \\right) ^{ 2 } }{ 8 } &= 125.000 \\; \\;\\textrm{(kNm)}\n",
       "\\\\[10pt]\n",
       "\\sigma_{t90d} &= k_{p} \\cdot M_{ap} \\cdot \\left( 10 \\right) ^{ 6 } \\cdot \\frac{ 6 }{ b \\cdot \\left( h_{ap} \\right) ^{ 2 } }  = 0.041 \\cdot 125.000 \\cdot \\left( 10 \\right) ^{ 6 } \\cdot \\frac{ 6 }{ 115 \\cdot \\left( 798.426 \\right) ^{ 2 } } &= 0.421 \\; \\;\\textrm{(MPa)}\n",
       "\\end{aligned}\n",
       "\\]"
      ],
      "text/plain": [
       "<IPython.core.display.Latex object>"
      ]
     },
     "metadata": {},
     "output_type": "display_data"
    }
   ],
   "source": [
    "%%render\n",
    "M_ap = w_d*l**2/8 #kNm\n",
    "sigma_t90d = k_p*M_ap*10**6*6/(b*h_ap**2) #MPa"
   ]
  },
  {
   "cell_type": "code",
   "execution_count": 89,
   "id": "c7a28fe3",
   "metadata": {},
   "outputs": [
    {
     "data": {
      "text/latex": [
       "\\[\n",
       "\\begin{aligned}\n",
       "V &= b \\cdot \\frac{ \\sin \\left( \\alpha \\cdot \\frac{ \\pi }{ 180 } \\right) \\cdot \\cos \\left( \\alpha \\cdot \\frac{ \\pi }{ 180 } \\right) \\cdot \\left( r_{int} + h_{ap} \\right) ^{ 2 } - \\left( r_{int} \\right) ^{ 2 } \\cdot \\left( \\alpha \\cdot \\frac{ \\pi }{ 180 } \\right) }{ \\left( 1000 \\right) ^{ 3 } } \\\\&= 115 \\cdot \\frac{ \\sin \\left( 10 \\cdot \\frac{ 3.142 }{ 180 } \\right) \\cdot \\cos \\left( 10 \\cdot \\frac{ 3.142 }{ 180 } \\right) \\cdot \\left( 11000 + 798.426 \\right) ^{ 2 } - \\left( 11000 \\right) ^{ 2 } \\cdot \\left( 10 \\cdot \\frac{ 3.142 }{ 180 } \\right) }{ \\left( 1000 \\right) ^{ 3 } } \\\\&= 0.309 \\; \\;\\textrm{(m3)}\\\\[10pt]\n",
       "\\\\[10pt]\n",
       "k_{vol} &= \\left( \\frac{ 0.01 }{ V } \\right) ^{ 0.2 }  = \\left( \\frac{ 0.01 }{ 0.309 } \\right) ^{ 0.2 } &= 0.504  \n",
       "\\\\[10pt]\n",
       "k_{dis} &= 1.700 \\; \\;\\textrm{(becaus it is a pitched cambered beam)}\n",
       "\\end{aligned}\n",
       "\\]"
      ],
      "text/plain": [
       "<IPython.core.display.Latex object>"
      ]
     },
     "metadata": {},
     "output_type": "display_data"
    }
   ],
   "source": [
    "%%render\n",
    "V = b*(sin(alpha*pi/180)*cos(alpha*pi/180)*(r_int+h_ap)**2 - r_int**2*(alpha*pi/180)) /1000**3 #m3\n",
    "k_vol = (0.01/V)**0.2\n",
    "k_dis = 1.7 #becaus it is a pitched cambered beam"
   ]
  },
  {
   "cell_type": "code",
   "execution_count": 90,
   "id": "ee0c16d1",
   "metadata": {},
   "outputs": [
    {
     "data": {
      "text/latex": [
       "\\[\n",
       "\\begin{aligned}\n",
       "\\mathrm{Ratio} &= \\frac{ \\sigma_{t90d} }{ k_{vol} \\cdot k_{dis} \\cdot f_{t90d} }  = \\frac{ 0.421 }{ 0.504 \\cdot 1.700 \\cdot 0.324 } &= 1.517  \n",
       "\\end{aligned}\n",
       "\\]"
      ],
      "text/plain": [
       "<IPython.core.display.Latex object>"
      ]
     },
     "metadata": {},
     "output_type": "display_data"
    }
   ],
   "source": [
    "%%render\n",
    "Ratio = sigma_t90d/(k_vol*k_dis*f_t90d)"
   ]
  },
  {
   "cell_type": "markdown",
   "id": "4bdcf624",
   "metadata": {},
   "source": [
    "which is higher than 1 --> NOT satisfactory"
   ]
  },
  {
   "cell_type": "markdown",
   "id": "97bd344c",
   "metadata": {},
   "source": [
    "You will need to re-design the beam, for example by using a curved beam instead. You will also need to check SLS and othe load combinations"
   ]
  },
  {
   "cell_type": "code",
   "execution_count": null,
   "id": "7f49ae26",
   "metadata": {},
   "outputs": [],
   "source": []
  }
 ],
 "metadata": {
  "kernelspec": {
   "display_name": "Python 3 (ipykernel)",
   "language": "python",
   "name": "python3"
  },
  "language_info": {
   "codemirror_mode": {
    "name": "ipython",
    "version": 3
   },
   "file_extension": ".py",
   "mimetype": "text/x-python",
   "name": "python",
   "nbconvert_exporter": "python",
   "pygments_lexer": "ipython3",
   "version": "3.10.6"
  }
 },
 "nbformat": 4,
 "nbformat_minor": 5
}
