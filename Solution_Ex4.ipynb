{
 "cells": [
  {
   "cell_type": "markdown",
   "id": "australian-bottle",
   "metadata": {},
   "source": [
    "# Exercise 4"
   ]
  },
  {
   "cell_type": "markdown",
   "id": "steady-iraqi",
   "metadata": {},
   "source": [
    "Design of a simply-supported tapered Glulam beam.\n",
    "\n",
    "As before, you will need to check all load combinations, although here you will only see the calcs related to LC1 (permanent + variable)"
   ]
  },
  {
   "cell_type": "code",
   "execution_count": 48,
   "id": "fantastic-capacity",
   "metadata": {},
   "outputs": [],
   "source": [
    "import numpy as np\n",
    "import handcalcs.render\n",
    "from math import sqrt, pi, tan, log"
   ]
  },
  {
   "cell_type": "markdown",
   "id": "sealed-europe",
   "metadata": {},
   "source": [
    "## Data"
   ]
  },
  {
   "cell_type": "code",
   "execution_count": 68,
   "id": "interested-spanish",
   "metadata": {},
   "outputs": [
    {
     "data": {
      "text/latex": [
       "\\[\n",
       "\\begin{aligned}\n",
       "l &= 10 \\; \\;\\textrm{(m)}\n",
       "\\\\[10pt]\n",
       "h_{l} &= 1349 \\; \\;\\textrm{(mm)}\n",
       "\\\\[10pt]\n",
       "h_{s} &= 650 \\; \\;\\textrm{(mm)}\n",
       "\\\\[10pt]\n",
       "b &= 200 \\; \\;\\textrm{(mm)}\n",
       "\\\\[10pt]\n",
       "\\alpha &= 4 \\; \n",
       "\\\\[10pt]\n",
       "f_{mk} &= 24 \\; \\;\\textrm{(MPa)}\n",
       "\\\\[10pt]\n",
       "f_{vk} &= 2.700 \\; \\;\\textrm{(MPa)}\n",
       "\\\\[10pt]\n",
       "f_{c90k} &= 2.700 \\; \\;\\textrm{(MPa)}\n",
       "\\\\[10pt]\n",
       "\\rho &= 380 \\; \\;\\textrm{(kg/m3)}\n",
       "\\\\[10pt]\n",
       "k_{mod} &= 1.100 \\; \\;\\textrm{(Short term load)}\n",
       "\\\\[10pt]\n",
       "\\gamma &= 1.250 \\; \n",
       "\\\\[10pt]\n",
       "f_{md} &= f_{mk} \\cdot \\frac{ k_{mod} }{ \\gamma }  = 24 \\cdot \\frac{ 1.100 }{ 1.250 } &= 21.120 \\; \\;\\textrm{(MPa)}\n",
       "\\\\[10pt]\n",
       "f_{vd} &= f_{vk} \\cdot \\frac{ k_{mod} }{ \\gamma }  = 2.700 \\cdot \\frac{ 1.100 }{ 1.250 } &= 2.376 \\; \\;\\textrm{(MPa)}\n",
       "\\\\[10pt]\n",
       "f_{c90d} &= f_{c90k} \\cdot \\frac{ k_{mod} }{ \\gamma }  = 2.700 \\cdot \\frac{ 1.100 }{ 1.250 } &= 2.376 \\; \\;\\textrm{(MPa)}\n",
       "\\\\[10pt]\n",
       "E_{mean} &= 11600 \\; \\;\\textrm{(MPa)}\n",
       "\\\\[10pt]\n",
       "G_{mean} &= 720 \\; \\;\\textrm{(MPa)}\n",
       "\\\\[10pt]\n",
       "k_{def} &= 0.600 \\; \n",
       "\\end{aligned}\n",
       "\\]"
      ],
      "text/plain": [
       "<IPython.core.display.Latex object>"
      ]
     },
     "metadata": {},
     "output_type": "display_data"
    }
   ],
   "source": [
    "%%render\n",
    "l = 10 #m\n",
    "h_l = 1349 #mm\n",
    "h_s = 650 #mm\n",
    "b = 200 #mm\n",
    "alpha = 4\n",
    "f_mk = 24 #MPa\n",
    "f_vk = 2.7 # MPa\n",
    "f_c90k = 2.7 # MPa\n",
    "rho = 380 #kg/m3\n",
    "k_mod = 1.1 #Short term load\n",
    "gamma = 1.25\n",
    "f_md = f_mk*k_mod/gamma #MPa\n",
    "f_vd = f_vk*k_mod/gamma #MPa\n",
    "f_c90d = f_c90k*k_mod/gamma #MPa\n",
    "E_mean = 11600 #MPa\n",
    "G_mean = 720 #MPa\n",
    "k_def = 0.6"
   ]
  },
  {
   "cell_type": "code",
   "execution_count": 8,
   "id": "dcbe7572",
   "metadata": {},
   "outputs": [
    {
     "data": {
      "text/latex": [
       "\\[\n",
       "\\begin{aligned}\n",
       "G_{k} &= 5 \\; \\;\\textrm{(𝑘𝑁∕𝑚)}\n",
       "\\\\[10pt]\n",
       "Q_{k} &= 20 \\; \\;\\textrm{(𝑘𝑁∕𝑚)}\n",
       "\\\\[10pt]\n",
       "w_{dI} &= 1.35 \\cdot G_{k} + 1.5 \\cdot Q_{k}  = 1.35 \\cdot 5 + 1.5 \\cdot 20 &= 36.750 \\; \\;\\textrm{(kN/m)}\n",
       "\\end{aligned}\n",
       "\\]"
      ],
      "text/plain": [
       "<IPython.core.display.Latex object>"
      ]
     },
     "metadata": {},
     "output_type": "display_data"
    }
   ],
   "source": [
    "%%render\n",
    "G_k = 5 #𝑘𝑁∕𝑚\n",
    "Q_k = 20 #𝑘𝑁∕𝑚\n",
    "w_dI = 1.35*G_k + 1.5*Q_k #kN/m"
   ]
  },
  {
   "cell_type": "markdown",
   "id": "e72f4b4b",
   "metadata": {},
   "source": [
    "## Bending strength checks (ULS)"
   ]
  },
  {
   "cell_type": "markdown",
   "id": "765805f9",
   "metadata": {},
   "source": [
    "The location and value of the bending stress are:"
   ]
  },
  {
   "cell_type": "code",
   "execution_count": 14,
   "id": "personal-tuesday",
   "metadata": {},
   "outputs": [
    {
     "data": {
      "text/latex": [
       "\\[\n",
       "\\begin{aligned}\n",
       "x &= \\frac{ l }{ 1 + \\frac{ h_{l} }{ h_{s} } }  = \\frac{ 10 }{ 1 + \\frac{ 1349 }{ 650 } } &= 3.252 \\; \\;\\textrm{(m from the shallower end)}\n",
       "\\\\[10pt]\n",
       "\\sigma_{md} &= 0.75 \\cdot w_{dI} \\cdot \\frac{ \\left( l \\cdot 1000 \\right) ^{ 2 } }{ b } \\cdot \\left( \\frac{ 1 }{ h_{s} \\cdot h_{l} } \\right) \\\\&= 0.75 \\cdot 36.750 \\cdot \\frac{ \\left( 10 \\cdot 1000 \\right) ^{ 2 } }{ 200 } \\cdot \\left( \\frac{ 1 }{ 650 \\cdot 1349 } \\right) \\\\&= 15.717 \\; \\;\\textrm{(MPa)}\\\\[10pt]\n",
       "\\end{aligned}\n",
       "\\]"
      ],
      "text/plain": [
       "<IPython.core.display.Latex object>"
      ]
     },
     "metadata": {},
     "output_type": "display_data"
    }
   ],
   "source": [
    "%%render\n",
    "x = l/(1 + h_l/h_s) #m from the shallower end\n",
    "sigma_md = 0.75*w_dI*(l*1000)**2/b*(1/(h_s*h_l)) #MPa\n"
   ]
  },
  {
   "cell_type": "markdown",
   "id": "13a13bbd",
   "metadata": {},
   "source": [
    "Besides, for compressive strsses parallel to the tapered edge:"
   ]
  },
  {
   "cell_type": "code",
   "execution_count": 35,
   "id": "91845b8b",
   "metadata": {},
   "outputs": [
    {
     "data": {
      "text/latex": [
       "\\[\n",
       "\\begin{aligned}\n",
       "k_{ma} &= \\frac{ 1 }{ \\sqrt { 1 + \\left( \\frac{ f_{md} }{ 1.5 \\cdot f_{vd} } \\cdot \\tan \\left( \\alpha \\cdot \\frac{ \\pi }{ 180 } \\right) \\right) ^{ 2 } + \\left( \\frac{ f_{md} }{ f_{c90d} } \\cdot \\left( \\tan \\left( \\alpha \\cdot \\frac{ \\pi }{ 180 } \\right) \\right) ^{ 2 } \\right) ^{ 2 } } } \\\\&= \\frac{ 1 }{ \\sqrt { 1 + \\left( \\frac{ 21.120 }{ 1.5 \\cdot 2.376 } \\cdot \\tan \\left( 4 \\cdot \\frac{ 3.142 }{ 180 } \\right) \\right) ^{ 2 } + \\left( \\frac{ 21.120 }{ 2.376 } \\cdot \\left( \\tan \\left( 4 \\cdot \\frac{ 3.142 }{ 180 } \\right) \\right) ^{ 2 } \\right) ^{ 2 } } } \\\\&= 0.923  \\\\[10pt]\n",
       "\\end{aligned}\n",
       "\\]"
      ],
      "text/plain": [
       "<IPython.core.display.Latex object>"
      ]
     },
     "metadata": {},
     "output_type": "display_data"
    }
   ],
   "source": [
    "%%render\n",
    "k_ma = 1/(sqrt(1 + ((f_md)/(1.5*f_vd)*tan(alpha*pi/180))**2+(f_md/f_c90d*tan(alpha*pi/180)**2)**2))"
   ]
  },
  {
   "cell_type": "code",
   "execution_count": 37,
   "id": "4fc7d423",
   "metadata": {},
   "outputs": [
    {
     "data": {
      "text/latex": [
       "\\[\n",
       "\\begin{aligned}\n",
       "\\mathrm{Ratio} &= \\frac{ \\sigma_{md} }{ k_{ma} \\cdot f_{md} }  = \\frac{ 15.717 }{ 0.923 \\cdot 21.120 } &= 0.806  \n",
       "\\end{aligned}\n",
       "\\]"
      ],
      "text/plain": [
       "<IPython.core.display.Latex object>"
      ]
     },
     "metadata": {},
     "output_type": "display_data"
    }
   ],
   "source": [
    "%%render\n",
    "Ratio = sigma_md/(k_ma*f_md)"
   ]
  },
  {
   "cell_type": "markdown",
   "id": "1fb58d1a",
   "metadata": {},
   "source": [
    "which is lower than 1 --> satisfactory"
   ]
  },
  {
   "cell_type": "markdown",
   "id": "171d2dd6",
   "metadata": {},
   "source": [
    "## Shear strength chekcs (ULS)"
   ]
  },
  {
   "cell_type": "code",
   "execution_count": 39,
   "id": "e2c61c82",
   "metadata": {},
   "outputs": [
    {
     "data": {
      "text/latex": [
       "\\[\n",
       "\\begin{aligned}\n",
       "V_{d} &= w_{dI} \\cdot \\frac{ l }{ 2 }  = 36.750 \\cdot \\frac{ 10 }{ 2 } &= 183.750 \\; \\;\\textrm{(kN)}\n",
       "\\\\[10pt]\n",
       "\\tau_{d} &= 1.5 \\cdot V_{d} \\cdot \\frac{ 1000 }{ b \\cdot h_{s} }  = 1.5 \\cdot 183.750 \\cdot \\frac{ 1000 }{ 200 \\cdot 650 } &= 2.120 \\; \\;\\textrm{(MPa)}\n",
       "\\end{aligned}\n",
       "\\]"
      ],
      "text/plain": [
       "<IPython.core.display.Latex object>"
      ]
     },
     "metadata": {},
     "output_type": "display_data"
    }
   ],
   "source": [
    "%%render\n",
    "V_d = w_dI*l/2 #kN\n",
    "tau_d = 1.5*V_d*1000/(b*h_s) #MPa"
   ]
  },
  {
   "cell_type": "code",
   "execution_count": 42,
   "id": "d74c5b32",
   "metadata": {},
   "outputs": [
    {
     "data": {
      "text/latex": [
       "\\[\n",
       "\\begin{aligned}\n",
       "\\mathrm{Ratio} &= \\frac{ \\tau_{d} }{ f_{vd} }  = \\frac{ 2.120 }{ 2.376 } &= 0.892  \n",
       "\\end{aligned}\n",
       "\\]"
      ],
      "text/plain": [
       "<IPython.core.display.Latex object>"
      ]
     },
     "metadata": {},
     "output_type": "display_data"
    }
   ],
   "source": [
    "%%render\n",
    "Ratio = tau_d/f_vd"
   ]
  },
  {
   "cell_type": "markdown",
   "id": "daecc98d",
   "metadata": {},
   "source": [
    "which is lower than 1 --> satisfactory"
   ]
  },
  {
   "cell_type": "markdown",
   "id": "f5029476",
   "metadata": {},
   "source": [
    "## Deflections (SLS)"
   ]
  },
  {
   "cell_type": "code",
   "execution_count": 71,
   "id": "4eda86d6",
   "metadata": {},
   "outputs": [
    {
     "data": {
      "text/latex": [
       "\\[\n",
       "\\begin{aligned}\n",
       "M_{d1} &= G_{k} \\cdot \\frac{ \\left( l \\right) ^{ 2 } }{ 8 } \\cdot 1000  = 5 \\cdot \\frac{ \\left( 10 \\right) ^{ 2 } }{ 8 } \\cdot 1000 &= 62500.000 \\; \\;\\textrm{(Nm)}\n",
       "\\\\[10pt]\n",
       "M_{d2} &= Q_{k} \\cdot \\frac{ \\left( l \\right) ^{ 2 } }{ 8 } \\cdot 1000  = 20 \\cdot \\frac{ \\left( 10 \\right) ^{ 2 } }{ 8 } \\cdot 1000 &= 250000.000 \\; \\;\\textrm{(Nm)}\n",
       "\\\\[10pt]\n",
       "k_{dm} &= 19.2 \\cdot \\left( \\frac{ 1 }{ \\frac{ h_{l} }{ h_{s} } - 1 } \\right) ^{ 4 } \\cdot \\left( 3 \\cdot \\left( \\frac{ h_{l} }{ h_{s} } + 1 \\right) \\cdot \\ln \\left( \\frac{ \\frac{ h_{l} }{ h_{s} } + 1 }{ 2 } \\right) - \\left( 2 \\cdot \\frac{ h_{l} }{ h_{s} } + 1 \\right) \\cdot \\ln \\left( \\frac{ h_{l} }{ h_{s} } \\right) - \\left( \\frac{ \\left( \\frac{ h_{l} }{ h_{s} } - 1 \\right) ^{ 2 } }{ 2 \\cdot \\left( \\frac{ h_{l} }{ h_{s} } + 1 \\right) } \\right) \\right) \\\\&= 19.2 \\cdot \\left( \\frac{ 1 }{ \\frac{ 1349 }{ 650 } - 1 } \\right) ^{ 4 } \\cdot \\left( 3 \\cdot \\left( \\frac{ 1349 }{ 650 } + 1 \\right) \\cdot \\ln \\left( \\frac{ \\frac{ 1349 }{ 650 } + 1 }{ 2 } \\right) - \\left( 2 \\cdot \\frac{ 1349 }{ 650 } + 1 \\right) \\cdot \\ln \\left( \\frac{ 1349 }{ 650 } \\right) - \\left( \\frac{ \\left( \\frac{ 1349 }{ 650 } - 1 \\right) ^{ 2 } }{ 2 \\cdot \\left( \\frac{ 1349 }{ 650 } + 1 \\right) } \\right) \\right) \\\\&= 0.302  \\\\[10pt]\n",
       "\\\\[10pt]\n",
       "k_{dv} &= \\frac{ 2 \\cdot \\left( \\frac{ h_{l} }{ h_{s} } + 1 \\right) }{ \\left( \\frac{ h_{l} }{ h_{s} } - 1 \\right) ^{ 2 } } \\cdot \\ln \\left( \\frac{ \\left( \\frac{ h_{l} }{ h_{s} } + 1 \\right) ^{ 2 } }{ 4 \\cdot \\frac{ h_{l} }{ h_{s} } } \\right) \\\\&= \\frac{ 2 \\cdot \\left( \\frac{ 1349 }{ 650 } + 1 \\right) }{ \\left( \\frac{ 1349 }{ 650 } - 1 \\right) ^{ 2 } } \\cdot \\ln \\left( \\frac{ \\left( \\frac{ 1349 }{ 650 } + 1 \\right) ^{ 2 } }{ 4 \\cdot \\frac{ 1349 }{ 650 } } \\right) \\\\&= 0.694  \\\\[10pt]\n",
       "\\\\[10pt]\n",
       "I &= \\frac{ b }{ 1000 } \\cdot \\frac{ \\left( \\frac{ h_{s} }{ 1000 } \\right) ^{ 2 } }{ 12 }  = \\frac{ 200 }{ 1000 } \\cdot \\frac{ \\left( \\frac{ 650 }{ 1000 } \\right) ^{ 2 } }{ 12 } &= 0.007  \n",
       "\\\\[10pt]\n",
       "\\delta_{1} &= 5 \\cdot M_{d1} \\cdot \\frac{ \\left( l \\right) ^{ 2 } }{ 48 \\cdot E_{mean} \\cdot \\left( 10 \\right) ^{ 6 } \\cdot I } \\cdot k_{dm} + 1.2 \\cdot \\frac{ M_{d1} }{ G_{mean} \\cdot \\left( 10 \\right) ^{ 6 } \\cdot \\frac{ b }{ 1000 } \\cdot \\frac{ h_{s} }{ 1000 } } \\cdot k_{dv} \\\\&= 5 \\cdot 62500.000 \\cdot \\frac{ \\left( 10 \\right) ^{ 2 } }{ 48 \\cdot 11600 \\cdot \\left( 10 \\right) ^{ 6 } \\cdot 0.007 } \\cdot 0.302 + 1.2 \\cdot \\frac{ 62500.000 }{ 720 \\cdot \\left( 10 \\right) ^{ 6 } \\cdot \\frac{ 200 }{ 1000 } \\cdot \\frac{ 650 }{ 1000 } } \\cdot 0.694 \\\\&= 0.003 \\; \\;\\textrm{(m)}\\\\[10pt]\n",
       "\\\\[10pt]\n",
       "\\delta_{2} &= 5 \\cdot M_{d2} \\cdot \\frac{ \\left( l \\right) ^{ 2 } }{ 48 \\cdot E_{mean} \\cdot \\left( 10 \\right) ^{ 6 } \\cdot I } \\cdot k_{dm} + 1.2 \\cdot \\frac{ M_{d2} }{ G_{mean} \\cdot \\left( 10 \\right) ^{ 6 } \\cdot \\frac{ b }{ 1000 } \\cdot \\frac{ h_{s} }{ 1000 } } \\cdot k_{dv} \\\\&= 5 \\cdot 250000.000 \\cdot \\frac{ \\left( 10 \\right) ^{ 2 } }{ 48 \\cdot 11600 \\cdot \\left( 10 \\right) ^{ 6 } \\cdot 0.007 } \\cdot 0.302 + 1.2 \\cdot \\frac{ 250000.000 }{ 720 \\cdot \\left( 10 \\right) ^{ 6 } \\cdot \\frac{ 200 }{ 1000 } \\cdot \\frac{ 650 }{ 1000 } } \\cdot 0.694 \\\\&= 0.012 \\; \\;\\textrm{(m)}\\\\[10pt]\n",
       "\\\\[10pt]\n",
       "u_{fin} &= \\delta_{1} \\cdot \\left( 1 + k_{def} \\right) + \\delta_{2}  = 0.003 \\cdot \\left( 1 + 0.600 \\right) + 0.012 &= 0.017 \\; \\;\\textrm{(m)}\n",
       "\\end{aligned}\n",
       "\\]"
      ],
      "text/plain": [
       "<IPython.core.display.Latex object>"
      ]
     },
     "metadata": {},
     "output_type": "display_data"
    }
   ],
   "source": [
    "%%render\n",
    "M_d1 = (G_k)*l**2/8*1000 #Nm\n",
    "M_d2 = (Q_k)*l**2/8*1000 #Nm\n",
    "k_dm = 19.2*(1/(h_l/h_s-1))**4*(3*(h_l/h_s+1)*log((h_l/h_s+1)/2)-(2*h_l/h_s+1)*log(h_l/h_s)-((h_l/h_s-1)**2/(2*(h_l/h_s+1))))\n",
    "k_dv = (2*(h_l/h_s+1))/(h_l/h_s-1)**2*log((h_l/h_s+1)**2/(4*h_l/h_s))\n",
    "I = b/1000*(h_s/1000)**2/12\n",
    "delta_1 = 5*M_d1*l**2/(48*E_mean*10**6*I)*k_dm + 1.2*M_d1/(G_mean*10**6*b/1000*h_s/1000)*k_dv #m\n",
    "delta_2 = 5*M_d2*l**2/(48*E_mean*10**6*I)*k_dm + 1.2*M_d2/(G_mean*10**6*b/1000*h_s/1000)*k_dv #m\n",
    "u_fin = delta_1*(1+k_def) + delta_2 #m"
   ]
  },
  {
   "cell_type": "markdown",
   "id": "d869162d",
   "metadata": {},
   "source": [
    "which is lower than l/300 = 0.03 m, OK"
   ]
  },
  {
   "cell_type": "markdown",
   "id": "b9344e59",
   "metadata": {},
   "source": [
    "Don't forget checking for other load combinations"
   ]
  },
  {
   "cell_type": "code",
   "execution_count": null,
   "id": "cbfc8e76",
   "metadata": {},
   "outputs": [],
   "source": []
  },
  {
   "cell_type": "code",
   "execution_count": null,
   "id": "cd25da45",
   "metadata": {},
   "outputs": [],
   "source": []
  }
 ],
 "metadata": {
  "kernelspec": {
   "display_name": "Python 3 (ipykernel)",
   "language": "python",
   "name": "python3"
  },
  "language_info": {
   "codemirror_mode": {
    "name": "ipython",
    "version": 3
   },
   "file_extension": ".py",
   "mimetype": "text/x-python",
   "name": "python",
   "nbconvert_exporter": "python",
   "pygments_lexer": "ipython3",
   "version": "3.10.6"
  }
 },
 "nbformat": 4,
 "nbformat_minor": 5
}
