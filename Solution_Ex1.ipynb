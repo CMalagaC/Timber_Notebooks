{
 "cells": [
  {
   "cell_type": "markdown",
   "id": "australian-bottle",
   "metadata": {},
   "source": [
    "# Exercise 1"
   ]
  },
  {
   "cell_type": "markdown",
   "id": "steady-iraqi",
   "metadata": {},
   "source": [
    "- Simply supported beam \n",
    "- Span 𝑙 = 5 m\n",
    "- Subjected to a uniformly distributed load along its full length\n",
    "- Perform the corresponding ULS and SLS checks. Make appropriate assumptions for any missing information."
   ]
  },
  {
   "cell_type": "code",
   "execution_count": 1,
   "id": "fantastic-capacity",
   "metadata": {},
   "outputs": [],
   "source": [
    "import numpy as np\n",
    "import handcalcs.render\n",
    "from math import sqrt, pi"
   ]
  },
  {
   "cell_type": "markdown",
   "id": "sealed-europe",
   "metadata": {},
   "source": [
    "## Data"
   ]
  },
  {
   "cell_type": "code",
   "execution_count": 2,
   "id": "interested-spanish",
   "metadata": {},
   "outputs": [
    {
     "data": {
      "text/latex": [
       "\\[\n",
       "\\begin{aligned}\n",
       "l &= 5 \\; \\;\\textrm{(m)}\n",
       "\\\\[10pt]\n",
       "i &= 1 \\; \\;\\textrm{(m)}\n",
       "\\\\[10pt]\n",
       "b &= 120 \\; \\;\\textrm{(mm)}\n",
       "\\\\[10pt]\n",
       "h &= 196 \\; \\;\\textrm{(mm)}\n",
       "\\end{aligned}\n",
       "\\]"
      ],
      "text/plain": [
       "<IPython.core.display.Latex object>"
      ]
     },
     "metadata": {},
     "output_type": "display_data"
    }
   ],
   "source": [
    "%%render\n",
    "l = 5 #m\n",
    "i = 1 #m\n",
    "b = 120 #mm\n",
    "h = 196 #mm"
   ]
  },
  {
   "cell_type": "code",
   "execution_count": 3,
   "id": "personal-tuesday",
   "metadata": {},
   "outputs": [
    {
     "data": {
      "text/latex": [
       "\\[\n",
       "\\begin{aligned}\n",
       "G_{k} &= 2 \\; \\;\\textrm{(𝑘𝑁∕𝑚2)}\n",
       "\\\\[10pt]\n",
       "Q_{k} &= 0.600 \\; \\;\\textrm{(𝑘𝑁∕𝑚2)}\n",
       "\\end{aligned}\n",
       "\\]"
      ],
      "text/plain": [
       "<IPython.core.display.Latex object>"
      ]
     },
     "metadata": {},
     "output_type": "display_data"
    }
   ],
   "source": [
    "%%render\n",
    "G_k = 2 #𝑘𝑁∕𝑚2\n",
    "Q_k = 0.6 #𝑘𝑁∕𝑚2"
   ]
  },
  {
   "cell_type": "code",
   "execution_count": 4,
   "id": "f1e54fb4",
   "metadata": {},
   "outputs": [
    {
     "data": {
      "text/latex": [
       "\\[\n",
       "\\begin{aligned}\n",
       "\\rho_{k} &= 380 \\; \\;\\textrm{(𝑘𝑔∕𝑚3)}\n",
       "\\\\[10pt]\n",
       "k_{def} &= 0.600 \\; \n",
       "\\\\[10pt]\n",
       "k_{mod_{p}} &= 0.600 \\; \n",
       "\\\\[10pt]\n",
       "k_{mod_{s}} &= 0.900 \\; \n",
       "\\\\[10pt]\n",
       "\\gamma_{m} &= 1.250 \\; \n",
       "\\end{aligned}\n",
       "\\]"
      ],
      "text/plain": [
       "<IPython.core.display.Latex object>"
      ]
     },
     "metadata": {},
     "output_type": "display_data"
    }
   ],
   "source": [
    "%%render\n",
    "rho_k = 380 #𝑘𝑔∕𝑚3\n",
    "k_def = 0.6\n",
    "k_mod_p = 0.6\n",
    "k_mod_s = 0.9\n",
    "gamma_m=1.25"
   ]
  },
  {
   "cell_type": "code",
   "execution_count": 5,
   "id": "18f5d9de",
   "metadata": {},
   "outputs": [
    {
     "data": {
      "text/latex": [
       "\\[\n",
       "\\begin{aligned}\n",
       "f_{myk} &= 27.600 \\; \\;\\textrm{(MPa)}\n",
       "\\\\[10pt]\n",
       "f_{myz} &= 27.600 \\; \n",
       "\\\\[10pt]\n",
       "f_{0k} &= 18.980 \\; \\;\\textrm{(𝑀 𝑃 𝑎)}\n",
       "\\\\[10pt]\n",
       "f_{t90k} &= 0.400 \\; \\;\\textrm{(𝑀𝑃 𝑎)}\n",
       "\\\\[10pt]\n",
       "f_{c0k} &= 24 \\; \\;\\textrm{(𝑀𝑃 𝑎)}\n",
       "\\\\[10pt]\n",
       "f_{c90k} &= 2.700 \\; \\;\\textrm{(Mpa)}\n",
       "\\\\[10pt]\n",
       "f_{vk} &= 2.700 \\; \\;\\textrm{(𝑀𝑃𝑎)}\n",
       "\\\\[10pt]\n",
       "E_{0mean} &= 11600 \\; \\;\\textrm{(𝑀𝑃𝑎)}\n",
       "\\\\[10pt]\n",
       "E_{005} &= 9400 \\; \\;\\textrm{(M𝑃𝑎)}\n",
       "\\\\[10pt]\n",
       "G_{mean} &= 720 \\; \\;\\textrm{(𝑀𝑃𝑎)}\n",
       "\\end{aligned}\n",
       "\\]"
      ],
      "text/plain": [
       "<IPython.core.display.Latex object>"
      ]
     },
     "metadata": {},
     "output_type": "display_data"
    }
   ],
   "source": [
    "%%render\n",
    "f_myk = 27.6 #MPa\n",
    "f_myz = f_myk\n",
    "f_0k = 18.98 #𝑀 𝑃 𝑎\n",
    "f_t90k = 0.4 #𝑀𝑃 𝑎\n",
    "f_c0k = 24 #𝑀𝑃 𝑎\n",
    "f_c90k = 2.7 #Mpa\n",
    "f_vk = 2.7 #𝑀𝑃𝑎\n",
    "E_0mean = 11600 #𝑀𝑃𝑎\n",
    "E_005 =9400 #M𝑃𝑎\n",
    "G_mean =720 #𝑀𝑃𝑎"
   ]
  },
  {
   "cell_type": "markdown",
   "id": "8bb549f4",
   "metadata": {},
   "source": [
    "## Lod combination 1 (permanent + variable)"
   ]
  },
  {
   "cell_type": "code",
   "execution_count": 6,
   "id": "d9683ef4",
   "metadata": {},
   "outputs": [
    {
     "data": {
      "text/latex": [
       "\\[\n",
       "\\begin{aligned}\n",
       "w_{d1} &= 1.35 \\cdot G_{k} \\cdot i + 1.5 \\cdot Q_{k} \\cdot i  = 1.35 \\cdot 2 \\cdot 1 + 1.5 \\cdot 0.600 \\cdot 1 &= 3.600 \\; \\;\\textrm{(kN/m)}\n",
       "\\end{aligned}\n",
       "\\]"
      ],
      "text/plain": [
       "<IPython.core.display.Latex object>"
      ]
     },
     "metadata": {},
     "output_type": "display_data"
    }
   ],
   "source": [
    "%%render\n",
    "w_d1 = 1.35*G_k*i + 1.5*Q_k*i #kN/m"
   ]
  },
  {
   "cell_type": "code",
   "execution_count": 7,
   "id": "27e8cc8a",
   "metadata": {
    "scrolled": true
   },
   "outputs": [
    {
     "data": {
      "text/latex": [
       "\\[\n",
       "\\begin{aligned}\n",
       "M_{d1} &= w_{d1} \\cdot \\frac{ \\left( l \\right) ^{ 2 } }{ 8 }  = 3.600 \\cdot \\frac{ \\left( 5 \\right) ^{ 2 } }{ 8 } &= 11.250 \\; \\;\\textrm{(kNm)}\n",
       "\\\\[10pt]\n",
       "V_{d1} &= w_{d1} \\cdot \\frac{ l }{ 2 }  = 3.600 \\cdot \\frac{ 5 }{ 2 } &= 9.000  \n",
       "\\end{aligned}\n",
       "\\]"
      ],
      "text/plain": [
       "<IPython.core.display.Latex object>"
      ]
     },
     "metadata": {},
     "output_type": "display_data"
    }
   ],
   "source": [
    "%%render\n",
    "M_d1 = w_d1*l**2/8 #kNm\n",
    "V_d1 = w_d1*l/2 "
   ]
  },
  {
   "cell_type": "markdown",
   "id": "b73c09fc",
   "metadata": {},
   "source": [
    "## Lod combination 2 (permanent)"
   ]
  },
  {
   "cell_type": "code",
   "execution_count": 8,
   "id": "fac762de",
   "metadata": {},
   "outputs": [
    {
     "data": {
      "text/latex": [
       "\\[\n",
       "\\begin{aligned}\n",
       "w_{d2} &= 1.35 \\cdot G_{k} \\cdot i  = 1.35 \\cdot 2 \\cdot 1 &= 2.700 \\; \\;\\textrm{(kN/m)}\n",
       "\\end{aligned}\n",
       "\\]"
      ],
      "text/plain": [
       "<IPython.core.display.Latex object>"
      ]
     },
     "metadata": {},
     "output_type": "display_data"
    }
   ],
   "source": [
    "%%render\n",
    "w_d2 = 1.35*G_k*i #kN/m"
   ]
  },
  {
   "cell_type": "code",
   "execution_count": 9,
   "id": "97d498b1",
   "metadata": {
    "scrolled": true
   },
   "outputs": [
    {
     "data": {
      "text/latex": [
       "\\[\n",
       "\\begin{aligned}\n",
       "M_{d2} &= w_{d2} \\cdot \\frac{ \\left( l \\right) ^{ 2 } }{ 8 }  = 2.700 \\cdot \\frac{ \\left( 5 \\right) ^{ 2 } }{ 8 } &= 8.438 \\; \\;\\textrm{(kNm)}\n",
       "\\\\[10pt]\n",
       "V_{d2} &= w_{d2} \\cdot \\frac{ l }{ 2 }  = 2.700 \\cdot \\frac{ 5 }{ 2 } &= 6.750  \n",
       "\\end{aligned}\n",
       "\\]"
      ],
      "text/plain": [
       "<IPython.core.display.Latex object>"
      ]
     },
     "metadata": {},
     "output_type": "display_data"
    }
   ],
   "source": [
    "%%render\n",
    "M_d2 = w_d2*l**2/8 #kNm\n",
    "V_d2 = w_d2*l/2 "
   ]
  },
  {
   "cell_type": "markdown",
   "id": "f52a0bc2",
   "metadata": {},
   "source": [
    "## Verification of bending strength"
   ]
  },
  {
   "cell_type": "code",
   "execution_count": 10,
   "id": "53ece03d",
   "metadata": {},
   "outputs": [
    {
     "data": {
      "text/plain": [
       "12.5"
      ]
     },
     "execution_count": 10,
     "metadata": {},
     "output_type": "execute_result"
    }
   ],
   "source": [
    "M_d1/k_mod_s"
   ]
  },
  {
   "cell_type": "code",
   "execution_count": 11,
   "id": "612c2283",
   "metadata": {},
   "outputs": [
    {
     "data": {
      "text/plain": [
       "14.0625"
      ]
     },
     "execution_count": 11,
     "metadata": {},
     "output_type": "execute_result"
    }
   ],
   "source": [
    "M_d2/k_mod_p"
   ]
  },
  {
   "cell_type": "markdown",
   "id": "dbec9455",
   "metadata": {},
   "source": [
    " --> load case 2 governs"
   ]
  },
  {
   "cell_type": "code",
   "execution_count": 12,
   "id": "b0905f16",
   "metadata": {},
   "outputs": [
    {
     "data": {
      "text/latex": [
       "\\[\n",
       "\\begin{aligned}\n",
       "\\sigma_{md} &= \\frac{ M_{d2} }{ b \\cdot \\frac{ \\left( h \\right) ^{ 2 } }{ 6 } } \\cdot \\left( 10 \\right) ^{ 6 }  = \\frac{ 8.438 }{ 120 \\cdot \\frac{ \\left( 196 \\right) ^{ 2 } }{ 6 } } \\cdot \\left( 10 \\right) ^{ 6 } &= 10.982 \\; \\;\\textrm{(MPa)}\n",
       "\\\\[10pt]\n",
       "f_{md} &= k_{mod_{p}} \\cdot \\frac{ f_{myk} }{ \\gamma_{m} }  = 0.600 \\cdot \\frac{ 27.600 }{ 1.250 } &= 13.248 \\; \\;\\textrm{(MPa)}\n",
       "\\end{aligned}\n",
       "\\]"
      ],
      "text/plain": [
       "<IPython.core.display.Latex object>"
      ]
     },
     "metadata": {},
     "output_type": "display_data"
    }
   ],
   "source": [
    "%%render\n",
    "sigma_md = M_d2/(b*h**2/6)*(10**6) #MPa\n",
    "f_md = k_mod_p*f_myk/gamma_m #MPa"
   ]
  },
  {
   "cell_type": "markdown",
   "id": "8468f0b1",
   "metadata": {},
   "source": [
    "$f_{md}>\\sigma_{md}$ --> OK"
   ]
  },
  {
   "cell_type": "markdown",
   "id": "80064647",
   "metadata": {},
   "source": [
    "## Verification of shear strength"
   ]
  },
  {
   "cell_type": "code",
   "execution_count": 13,
   "id": "dd0e1406",
   "metadata": {},
   "outputs": [
    {
     "data": {
      "text/plain": [
       "10.0"
      ]
     },
     "execution_count": 13,
     "metadata": {},
     "output_type": "execute_result"
    }
   ],
   "source": [
    "V_d1/k_mod_s"
   ]
  },
  {
   "cell_type": "code",
   "execution_count": 14,
   "id": "5226ec68",
   "metadata": {},
   "outputs": [
    {
     "data": {
      "text/plain": [
       "11.25"
      ]
     },
     "execution_count": 14,
     "metadata": {},
     "output_type": "execute_result"
    }
   ],
   "source": [
    "V_d2/k_mod_p"
   ]
  },
  {
   "cell_type": "markdown",
   "id": "100cf78b",
   "metadata": {},
   "source": [
    " --> load case 2 governs"
   ]
  },
  {
   "cell_type": "code",
   "execution_count": 15,
   "id": "9d237d03",
   "metadata": {},
   "outputs": [
    {
     "data": {
      "text/latex": [
       "\\[\n",
       "\\begin{aligned}\n",
       "\\tau_{d} &= 1.5 \\cdot \\frac{ V_{d2} }{ b \\cdot h } \\cdot \\left( 10 \\right) ^{ 3 }  = 1.5 \\cdot \\frac{ 6.750 }{ 120 \\cdot 196 } \\cdot \\left( 10 \\right) ^{ 3 } &= 0.430 \\; \\;\\textrm{(Mpa)}\n",
       "\\\\[10pt]\n",
       "f_{vd} &= 1.296 \\; \\;\\textrm{(MPa)}\n",
       "\\end{aligned}\n",
       "\\]"
      ],
      "text/plain": [
       "<IPython.core.display.Latex object>"
      ]
     },
     "metadata": {},
     "output_type": "display_data"
    }
   ],
   "source": [
    "%%render\n",
    "tau_d = 1.5*V_d2/(b*h)*(10**3) #Mpa\n",
    "f_vd=k_mod_p*f_vk/gamma_m #MPa"
   ]
  },
  {
   "cell_type": "markdown",
   "id": "4f8a57e6",
   "metadata": {},
   "source": [
    "$f_{vd}>\\tau_{d}$ --> OK"
   ]
  },
  {
   "cell_type": "markdown",
   "id": "5c6f33cb",
   "metadata": {},
   "source": [
    "## SLS: Deflections"
   ]
  },
  {
   "cell_type": "code",
   "execution_count": 16,
   "id": "b22fcf89",
   "metadata": {},
   "outputs": [
    {
     "data": {
      "text/latex": [
       "\\[\n",
       "\\begin{aligned}\n",
       "w_{G} &= 2.000 \\; \\;\\textrm{(kN/m,N/mm)}\n",
       "\\\\[10pt]\n",
       "w_{Q} &= 0.600 \\; \\;\\textrm{(kN/m,N/mm)}\n",
       "\\\\[10pt]\n",
       "I &= 75295360.000 \\; \\;\\textrm{(mm^4)}\n",
       "\\\\[10pt]\n",
       "A &= 23520 \\; \\;\\textrm{(mm^2)}\n",
       "\\end{aligned}\n",
       "\\]"
      ],
      "text/plain": [
       "<IPython.core.display.Latex object>"
      ]
     },
     "metadata": {},
     "output_type": "display_data"
    }
   ],
   "source": [
    "%%render\n",
    "w_G=1.0*G_k*i #kN/m,N/mm\n",
    "w_Q=1.0*Q_k*i #kN/m,N/mm\n",
    "I=b*h**3/12 #mm^4\n",
    "A=b*h #mm^2\n"
   ]
  },
  {
   "cell_type": "code",
   "execution_count": 17,
   "id": "58bf6929",
   "metadata": {},
   "outputs": [
    {
     "data": {
      "text/latex": [
       "\\[\n",
       "\\begin{aligned}\n",
       "u_{1inst} &= \\left( \\frac{ 5 }{ 384 } \\right) \\cdot \\frac{ w_{G} \\cdot \\left( l \\cdot 1000 \\right) ^{ 4 } }{ E_{0mean} \\cdot I } + \\left( + 1.2 \\right) \\cdot \\frac{ w_{G} \\cdot \\left( l \\cdot 100 \\right) ^{ 2 } }{ 8 \\cdot G_{mean} \\cdot A } \\\\&= \\left( \\frac{ 5 }{ 384 } \\right) \\cdot \\frac{ 2.000 \\cdot \\left( 5 \\cdot 1000 \\right) ^{ 4 } }{ 11600 \\cdot 75295360.000 } + \\left( + 1.2 \\right) \\cdot \\frac{ 2.000 \\cdot \\left( 5 \\cdot 100 \\right) ^{ 2 } }{ 8 \\cdot 720 \\cdot 23520 } \\\\&= 18.639 \\; \\;\\textrm{(mm)}\\\\[10pt]\n",
       "\\\\[10pt]\n",
       "u_{2inst} &= \\left( \\frac{ 5 }{ 384 } \\right) \\cdot \\frac{ w_{Q} \\cdot \\left( l \\cdot 1000 \\right) ^{ 4 } }{ E_{0mean} \\cdot I } + \\left( + 1.2 \\right) \\cdot \\frac{ w_{Q} \\cdot \\left( l \\cdot 100 \\right) ^{ 2 } }{ 8 \\cdot G_{mean} \\cdot A } \\\\&= \\left( \\frac{ 5 }{ 384 } \\right) \\cdot \\frac{ 0.600 \\cdot \\left( 5 \\cdot 1000 \\right) ^{ 4 } }{ 11600 \\cdot 75295360.000 } + \\left( + 1.2 \\right) \\cdot \\frac{ 0.600 \\cdot \\left( 5 \\cdot 100 \\right) ^{ 2 } }{ 8 \\cdot 720 \\cdot 23520 } \\\\&= 5.592 \\; \\;\\textrm{(mm)}\\\\[10pt]\n",
       "\\end{aligned}\n",
       "\\]"
      ],
      "text/plain": [
       "<IPython.core.display.Latex object>"
      ]
     },
     "metadata": {},
     "output_type": "display_data"
    }
   ],
   "source": [
    "%%render\n",
    "u_1inst = (5/384)*(w_G*(l*1000)**4)/(E_0mean*I)+ +1.2*(w_G*(l*100)**2)/(8*G_mean*A) #mm\n",
    "u_2inst = (5/384)*(w_Q*(l*1000)**4)/(E_0mean*I)+ +1.2*(w_Q*(l*100)**2)/(8*G_mean*A) #mm"
   ]
  },
  {
   "cell_type": "code",
   "execution_count": 18,
   "id": "4b5a122d",
   "metadata": {},
   "outputs": [
    {
     "data": {
      "text/latex": [
       "\\[\n",
       "\\begin{aligned}\n",
       "\\psi &= 0.200 \\; \n",
       "\\\\[10pt]\n",
       "u_{fin} &= u_{1inst} \\cdot \\left( 1 + k_{def} \\right) + u_{2inst} \\cdot \\left( 1 + \\psi \\cdot k_{def} \\right) \\\\&= 18.639 \\cdot \\left( 1 + 0.600 \\right) + 5.592 \\cdot \\left( 1 + 0.200 \\cdot 0.600 \\right) \\\\&= 36.085 \\; \\;\\textrm{(mm)}\\\\[10pt]\n",
       "\\\\[10pt]\n",
       "u_{lim} &= l \\cdot \\frac{ 1000 }{ 300 }  = 5 \\cdot \\frac{ 1000 }{ 300 } &= 16.667 \\; \\;\\textrm{(mm)}\n",
       "\\end{aligned}\n",
       "\\]"
      ],
      "text/plain": [
       "<IPython.core.display.Latex object>"
      ]
     },
     "metadata": {},
     "output_type": "display_data"
    }
   ],
   "source": [
    "%%render\n",
    "psi=0.2\n",
    "u_fin = u_1inst*(1+k_def)+u_2inst*(1+psi*k_def) #mm\n",
    "u_lim = l*1000/300 #mm"
   ]
  },
  {
   "cell_type": "markdown",
   "id": "e2394ed4",
   "metadata": {},
   "source": [
    "Check that $u_{fin} < u_{lim}$ --> ok, otherwise increase pre-camber or stiffen the beam"
   ]
  },
  {
   "cell_type": "code",
   "execution_count": null,
   "id": "65c78cc1",
   "metadata": {},
   "outputs": [],
   "source": []
  }
 ],
 "metadata": {
  "kernelspec": {
   "display_name": "Python 3 (ipykernel)",
   "language": "python",
   "name": "python3"
  },
  "language_info": {
   "codemirror_mode": {
    "name": "ipython",
    "version": 3
   },
   "file_extension": ".py",
   "mimetype": "text/x-python",
   "name": "python",
   "nbconvert_exporter": "python",
   "pygments_lexer": "ipython3",
   "version": "3.10.6"
  }
 },
 "nbformat": 4,
 "nbformat_minor": 5
}
